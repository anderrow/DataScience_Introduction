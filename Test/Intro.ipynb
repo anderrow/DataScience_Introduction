{
 "cells": [
  {
   "cell_type": "code",
   "execution_count": 1,
   "id": "604794b8",
   "metadata": {
    "scrolled": false
   },
   "outputs": [],
   "source": [
    "a = 4+4"
   ]
  },
  {
   "cell_type": "code",
   "execution_count": 2,
   "id": "09f8254b",
   "metadata": {},
   "outputs": [
    {
     "data": {
      "text/plain": [
       "8"
      ]
     },
     "execution_count": 2,
     "metadata": {},
     "output_type": "execute_result"
    }
   ],
   "source": [
    "a"
   ]
  },
  {
   "cell_type": "markdown",
   "id": "454cbe25",
   "metadata": {},
   "source": [
    "_Just_ writing something\n"
   ]
  },
  {
   "cell_type": "raw",
   "id": "f4de5c0b",
   "metadata": {},
   "source": [
    "## Raw text"
   ]
  },
  {
   "cell_type": "markdown",
   "id": "854568c1",
   "metadata": {},
   "source": [
    "# Título"
   ]
  },
  {
   "cell_type": "markdown",
   "id": "d907a47e",
   "metadata": {},
   "source": [
    "## Subtítutlo"
   ]
  },
  {
   "cell_type": "markdown",
   "id": "a197353a",
   "metadata": {},
   "source": [
    "### Subtitúlisimo"
   ]
  },
  {
   "cell_type": "markdown",
   "id": "38bfde50",
   "metadata": {},
   "source": [
    "#### Ya vale joe"
   ]
  },
  {
   "cell_type": "markdown",
   "id": "50a6442d",
   "metadata": {},
   "source": [
    "**Texto en negrita**"
   ]
  },
  {
   "cell_type": "markdown",
   "id": "73a4eea8",
   "metadata": {},
   "source": [
    "*Texto en cursiva* y **Texto en negrita**"
   ]
  },
  {
   "cell_type": "markdown",
   "id": "be2c34bc",
   "metadata": {},
   "source": [
    "Escribo texto con código `This is part of a code`"
   ]
  },
  {
   "cell_type": "markdown",
   "id": "feab6a37",
   "metadata": {},
   "source": [
    "> blockquote (Escribiendo con el operador de mayor que)"
   ]
  },
  {
   "cell_type": "markdown",
   "id": "605a7429",
   "metadata": {},
   "source": [
    "- Primero\n",
    "- Segundo\n",
    "- Tercero\n",
    "\n",
    "-----\n",
    "\n",
    "- Hola\n",
    "- Patatas "
   ]
  },
  {
   "cell_type": "markdown",
   "id": "6e7d1aaa",
   "metadata": {},
   "source": [
    "[Mastermind](https://www.mastermind.ac)"
   ]
  },
  {
   "cell_type": "markdown",
   "id": "3b2d55ee",
   "metadata": {},
   "source": [
    "![Imagen](https://amaboxsystems.com/wp-content/uploads/2020/08/cropped-cropped-cropped-AMABOX_logo_2020_HighQ-removebg.png) "
   ]
  },
  {
   "cell_type": "markdown",
   "id": "b4f50f32",
   "metadata": {
    "heading_collapsed": true
   },
   "source": [
    "# Título segundo\n"
   ]
  },
  {
   "cell_type": "code",
   "execution_count": null,
   "id": "f827ab62",
   "metadata": {
    "hidden": true
   },
   "outputs": [],
   "source": []
  }
 ],
 "metadata": {
  "kernelspec": {
   "display_name": "Python 3 (ipykernel)",
   "language": "python",
   "name": "python3"
  },
  "language_info": {
   "codemirror_mode": {
    "name": "ipython",
    "version": 3
   },
   "file_extension": ".py",
   "mimetype": "text/x-python",
   "name": "python",
   "nbconvert_exporter": "python",
   "pygments_lexer": "ipython3",
   "version": "3.12.3"
  },
  "toc": {
   "base_numbering": 1,
   "nav_menu": {},
   "number_sections": true,
   "sideBar": true,
   "skip_h1_title": false,
   "title_cell": "Table of Contents",
   "title_sidebar": "Contents",
   "toc_cell": false,
   "toc_position": {
    "height": "calc(100% - 180px)",
    "left": "10px",
    "top": "150px",
    "width": "399.391px"
   },
   "toc_section_display": true,
   "toc_window_display": true
  }
 },
 "nbformat": 4,
 "nbformat_minor": 5
}
