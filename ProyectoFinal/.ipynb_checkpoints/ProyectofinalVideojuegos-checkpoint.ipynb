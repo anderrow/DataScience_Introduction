{
 "cells": [
  {
   "cell_type": "markdown",
   "id": "86a1dad7",
   "metadata": {},
   "source": [
    "![](https://import.cdn.thinkific.com/220744/BExaQBPPQairRWFqxFbK_logo_mastermind_web_png)"
   ]
  },
  {
   "cell_type": "markdown",
   "id": "fe9937c1",
   "metadata": {},
   "source": [
    "¡Ahora es **vuestro turno!**\n",
    "\n",
    "En este proyecto final os he adjuntado un Dataset con 27.075 juegos en **Steam**, la popular plataforma de juegos de PC. Esta lista está actualizada desde el inicio hasta Abril de 2019.\n",
    "\n",
    "Ya que tenéis los conocimientos, os pediré que me contestéis a **10 preguntas**:\n",
    "1. Cual es el TOP10 de juegos más jugados?\n",
    "2. Cuál es el género de videojuegos más vendido?\n",
    "3. Qué géneros tienen mejores reviews de media?\n",
    "4. Cuánto ha ganado el desarrollador que más juegos ha vendido?\n",
    "5. Cómo afecta a las reviews que un juego sea Early Access?\n",
    "6. Cuál es el desarrollador (o desarrolladores) que más tipos de juego y cantidad ha desarrollado?\n",
    "7. En qué mes, desde que tenemos datos, se han publicado más juegos?\n",
    "8. Cuántas horas se juega de media a cada tipo de juego mensualmente?\n",
    "9. Los juegos Free to Play tienen mejores o peores reviews?\n",
    "10. Cómo ha evolucionado el número de achievements (trofeos) por juego?\n",
    "\n",
    "Os dejamos via libre para contestar a estas preguntas como más os apetezca. Recordad que no hay nada de malo en consultar por internet si tenéis dudas. Las documentaciones oficiales o [Stack Overflow](https://stackoverflow.com/) son sitios geniales para ello!\n",
    "\n",
    "Al acabar este proyecto, publicadlo en el foro donde está colgado para ver quién es el mejor!\n",
    "\n",
    "Os dejo la guía de pasos a seguir.\n",
    "\n",
    "Muchos ánimos!!\n",
    "\n",
    "\n"
   ]
  },
  {
   "cell_type": "markdown",
   "id": "18df0261",
   "metadata": {},
   "source": [
    "# Importando librerías"
   ]
  },
  {
   "cell_type": "code",
   "execution_count": 1,
   "id": "923c8888",
   "metadata": {},
   "outputs": [],
   "source": [
    "import os\n",
    "import pandas as pd\n",
    "from zipfile import ZipFile"
   ]
  },
  {
   "cell_type": "markdown",
   "id": "e3acb737",
   "metadata": {},
   "source": [
    "# Consiguiendo los datos"
   ]
  },
  {
   "cell_type": "markdown",
   "id": "d80298c8",
   "metadata": {},
   "source": [
    "### Descomprimir el archivo"
   ]
  },
  {
   "cell_type": "code",
   "execution_count": 2,
   "id": "515ffb9f",
   "metadata": {},
   "outputs": [
    {
     "data": {
      "text/plain": [
       "[<ZipInfo filename='steam.csv' compress_type=deflate external_attr=0x20 file_size=3425223 compress_size=979195>]"
      ]
     },
     "execution_count": 2,
     "metadata": {},
     "output_type": "execute_result"
    }
   ],
   "source": [
    "steam_zip = ZipFile('./SteamDataset.zip')\n",
    "steam_zip.filelist #Visualisate how much files are (1)"
   ]
  },
  {
   "cell_type": "code",
   "execution_count": 3,
   "id": "0925d0d7",
   "metadata": {},
   "outputs": [],
   "source": [
    "file = steam_zip.open('steam.csv') #Extract file"
   ]
  },
  {
   "cell_type": "markdown",
   "id": "9a36b95a",
   "metadata": {},
   "source": [
    "### Construir DataFrame"
   ]
  },
  {
   "cell_type": "code",
   "execution_count": 4,
   "id": "715bbc8f",
   "metadata": {},
   "outputs": [],
   "source": [
    "df = pd.read_csv(file)"
   ]
  },
  {
   "cell_type": "code",
   "execution_count": 5,
   "id": "6241f101",
   "metadata": {},
   "outputs": [
    {
     "data": {
      "text/html": [
       "<div>\n",
       "<style scoped>\n",
       "    .dataframe tbody tr th:only-of-type {\n",
       "        vertical-align: middle;\n",
       "    }\n",
       "\n",
       "    .dataframe tbody tr th {\n",
       "        vertical-align: top;\n",
       "    }\n",
       "\n",
       "    .dataframe thead th {\n",
       "        text-align: right;\n",
       "    }\n",
       "</style>\n",
       "<table border=\"1\" class=\"dataframe\">\n",
       "  <thead>\n",
       "    <tr style=\"text-align: right;\">\n",
       "      <th></th>\n",
       "      <th>Unnamed: 0</th>\n",
       "      <th>name</th>\n",
       "      <th>release_date</th>\n",
       "      <th>developer</th>\n",
       "      <th>achievements</th>\n",
       "      <th>positive_ratings</th>\n",
       "      <th>negative_ratings</th>\n",
       "      <th>avg_hours_per_user</th>\n",
       "      <th>price</th>\n",
       "      <th>sells</th>\n",
       "      <th>action</th>\n",
       "      <th>adventure</th>\n",
       "      <th>rpg</th>\n",
       "      <th>simulation</th>\n",
       "      <th>strategy</th>\n",
       "      <th>racing</th>\n",
       "      <th>free_to_play</th>\n",
       "      <th>early_access</th>\n",
       "    </tr>\n",
       "  </thead>\n",
       "  <tbody>\n",
       "    <tr>\n",
       "      <th>0</th>\n",
       "      <td>0</td>\n",
       "      <td>Counter-Strike</td>\n",
       "      <td>2000-11-01</td>\n",
       "      <td>Valve</td>\n",
       "      <td>0</td>\n",
       "      <td>124534</td>\n",
       "      <td>3339</td>\n",
       "      <td>17612</td>\n",
       "      <td>7.19€</td>\n",
       "      <td>15000000.0</td>\n",
       "      <td>True</td>\n",
       "      <td>False</td>\n",
       "      <td>False</td>\n",
       "      <td>False</td>\n",
       "      <td>False</td>\n",
       "      <td>False</td>\n",
       "      <td>False</td>\n",
       "      <td>False</td>\n",
       "    </tr>\n",
       "    <tr>\n",
       "      <th>1</th>\n",
       "      <td>1</td>\n",
       "      <td>Team Fortress Classic</td>\n",
       "      <td>1999-04-01</td>\n",
       "      <td>Valve</td>\n",
       "      <td>0</td>\n",
       "      <td>3318</td>\n",
       "      <td>633</td>\n",
       "      <td>277</td>\n",
       "      <td>3.99€</td>\n",
       "      <td>7500000.0</td>\n",
       "      <td>True</td>\n",
       "      <td>False</td>\n",
       "      <td>False</td>\n",
       "      <td>False</td>\n",
       "      <td>False</td>\n",
       "      <td>False</td>\n",
       "      <td>False</td>\n",
       "      <td>False</td>\n",
       "    </tr>\n",
       "    <tr>\n",
       "      <th>2</th>\n",
       "      <td>2</td>\n",
       "      <td>Day of Defeat</td>\n",
       "      <td>2003-05-01</td>\n",
       "      <td>Valve</td>\n",
       "      <td>0</td>\n",
       "      <td>3416</td>\n",
       "      <td>398</td>\n",
       "      <td>187</td>\n",
       "      <td>3.99€</td>\n",
       "      <td>7500000.0</td>\n",
       "      <td>True</td>\n",
       "      <td>False</td>\n",
       "      <td>False</td>\n",
       "      <td>False</td>\n",
       "      <td>False</td>\n",
       "      <td>False</td>\n",
       "      <td>False</td>\n",
       "      <td>False</td>\n",
       "    </tr>\n",
       "    <tr>\n",
       "      <th>3</th>\n",
       "      <td>3</td>\n",
       "      <td>Deathmatch Classic</td>\n",
       "      <td>2001-06-01</td>\n",
       "      <td>Valve</td>\n",
       "      <td>0</td>\n",
       "      <td>1273</td>\n",
       "      <td>267</td>\n",
       "      <td>258</td>\n",
       "      <td>3.99€</td>\n",
       "      <td>7500000.0</td>\n",
       "      <td>True</td>\n",
       "      <td>False</td>\n",
       "      <td>False</td>\n",
       "      <td>False</td>\n",
       "      <td>False</td>\n",
       "      <td>False</td>\n",
       "      <td>False</td>\n",
       "      <td>False</td>\n",
       "    </tr>\n",
       "    <tr>\n",
       "      <th>4</th>\n",
       "      <td>4</td>\n",
       "      <td>Half-Life: Opposing Force</td>\n",
       "      <td>1999-11-01</td>\n",
       "      <td>Gearbox Software</td>\n",
       "      <td>0</td>\n",
       "      <td>5250</td>\n",
       "      <td>288</td>\n",
       "      <td>624</td>\n",
       "      <td>3.99€</td>\n",
       "      <td>7500000.0</td>\n",
       "      <td>True</td>\n",
       "      <td>False</td>\n",
       "      <td>False</td>\n",
       "      <td>False</td>\n",
       "      <td>False</td>\n",
       "      <td>False</td>\n",
       "      <td>False</td>\n",
       "      <td>False</td>\n",
       "    </tr>\n",
       "  </tbody>\n",
       "</table>\n",
       "</div>"
      ],
      "text/plain": [
       "   Unnamed: 0                       name release_date         developer  \\\n",
       "0           0             Counter-Strike   2000-11-01             Valve   \n",
       "1           1      Team Fortress Classic   1999-04-01             Valve   \n",
       "2           2              Day of Defeat   2003-05-01             Valve   \n",
       "3           3         Deathmatch Classic   2001-06-01             Valve   \n",
       "4           4  Half-Life: Opposing Force   1999-11-01  Gearbox Software   \n",
       "\n",
       "   achievements  positive_ratings  negative_ratings  avg_hours_per_user  \\\n",
       "0             0            124534              3339               17612   \n",
       "1             0              3318               633                 277   \n",
       "2             0              3416               398                 187   \n",
       "3             0              1273               267                 258   \n",
       "4             0              5250               288                 624   \n",
       "\n",
       "   price       sells  action  adventure    rpg  simulation  strategy  racing  \\\n",
       "0  7.19€  15000000.0    True      False  False       False     False   False   \n",
       "1  3.99€   7500000.0    True      False  False       False     False   False   \n",
       "2  3.99€   7500000.0    True      False  False       False     False   False   \n",
       "3  3.99€   7500000.0    True      False  False       False     False   False   \n",
       "4  3.99€   7500000.0    True      False  False       False     False   False   \n",
       "\n",
       "   free_to_play  early_access  \n",
       "0         False         False  \n",
       "1         False         False  \n",
       "2         False         False  \n",
       "3         False         False  \n",
       "4         False         False  "
      ]
     },
     "execution_count": 5,
     "metadata": {},
     "output_type": "execute_result"
    }
   ],
   "source": [
    "df.head()"
   ]
  },
  {
   "cell_type": "code",
   "execution_count": 6,
   "id": "4952d8d4",
   "metadata": {},
   "outputs": [
    {
     "data": {
      "text/plain": [
       "Index(['Unnamed: 0', 'name', 'release_date', 'developer', 'achievements',\n",
       "       'positive_ratings', 'negative_ratings', 'avg_hours_per_user', 'price',\n",
       "       'sells', 'action', 'adventure', 'rpg', 'simulation', 'strategy',\n",
       "       'racing', 'free_to_play', 'early_access'],\n",
       "      dtype='object')"
      ]
     },
     "execution_count": 6,
     "metadata": {},
     "output_type": "execute_result"
    }
   ],
   "source": [
    "df.columns"
   ]
  },
  {
   "cell_type": "code",
   "execution_count": 8,
   "id": "48b010da",
   "metadata": {},
   "outputs": [],
   "source": [
    "df.set_index(df.columns[0], inplace=True)"
   ]
  },
  {
   "cell_type": "code",
   "execution_count": 9,
   "id": "d3290cb6",
   "metadata": {},
   "outputs": [
    {
     "data": {
      "text/html": [
       "<div>\n",
       "<style scoped>\n",
       "    .dataframe tbody tr th:only-of-type {\n",
       "        vertical-align: middle;\n",
       "    }\n",
       "\n",
       "    .dataframe tbody tr th {\n",
       "        vertical-align: top;\n",
       "    }\n",
       "\n",
       "    .dataframe thead th {\n",
       "        text-align: right;\n",
       "    }\n",
       "</style>\n",
       "<table border=\"1\" class=\"dataframe\">\n",
       "  <thead>\n",
       "    <tr style=\"text-align: right;\">\n",
       "      <th></th>\n",
       "      <th>name</th>\n",
       "      <th>release_date</th>\n",
       "      <th>developer</th>\n",
       "      <th>achievements</th>\n",
       "      <th>positive_ratings</th>\n",
       "      <th>negative_ratings</th>\n",
       "      <th>avg_hours_per_user</th>\n",
       "      <th>price</th>\n",
       "      <th>sells</th>\n",
       "      <th>action</th>\n",
       "      <th>adventure</th>\n",
       "      <th>rpg</th>\n",
       "      <th>simulation</th>\n",
       "      <th>strategy</th>\n",
       "      <th>racing</th>\n",
       "      <th>free_to_play</th>\n",
       "      <th>early_access</th>\n",
       "    </tr>\n",
       "    <tr>\n",
       "      <th>Unnamed: 0</th>\n",
       "      <th></th>\n",
       "      <th></th>\n",
       "      <th></th>\n",
       "      <th></th>\n",
       "      <th></th>\n",
       "      <th></th>\n",
       "      <th></th>\n",
       "      <th></th>\n",
       "      <th></th>\n",
       "      <th></th>\n",
       "      <th></th>\n",
       "      <th></th>\n",
       "      <th></th>\n",
       "      <th></th>\n",
       "      <th></th>\n",
       "      <th></th>\n",
       "      <th></th>\n",
       "    </tr>\n",
       "  </thead>\n",
       "  <tbody>\n",
       "    <tr>\n",
       "      <th>0</th>\n",
       "      <td>Counter-Strike</td>\n",
       "      <td>2000-11-01</td>\n",
       "      <td>Valve</td>\n",
       "      <td>0</td>\n",
       "      <td>124534</td>\n",
       "      <td>3339</td>\n",
       "      <td>17612</td>\n",
       "      <td>7.19€</td>\n",
       "      <td>15000000.0</td>\n",
       "      <td>True</td>\n",
       "      <td>False</td>\n",
       "      <td>False</td>\n",
       "      <td>False</td>\n",
       "      <td>False</td>\n",
       "      <td>False</td>\n",
       "      <td>False</td>\n",
       "      <td>False</td>\n",
       "    </tr>\n",
       "    <tr>\n",
       "      <th>1</th>\n",
       "      <td>Team Fortress Classic</td>\n",
       "      <td>1999-04-01</td>\n",
       "      <td>Valve</td>\n",
       "      <td>0</td>\n",
       "      <td>3318</td>\n",
       "      <td>633</td>\n",
       "      <td>277</td>\n",
       "      <td>3.99€</td>\n",
       "      <td>7500000.0</td>\n",
       "      <td>True</td>\n",
       "      <td>False</td>\n",
       "      <td>False</td>\n",
       "      <td>False</td>\n",
       "      <td>False</td>\n",
       "      <td>False</td>\n",
       "      <td>False</td>\n",
       "      <td>False</td>\n",
       "    </tr>\n",
       "    <tr>\n",
       "      <th>2</th>\n",
       "      <td>Day of Defeat</td>\n",
       "      <td>2003-05-01</td>\n",
       "      <td>Valve</td>\n",
       "      <td>0</td>\n",
       "      <td>3416</td>\n",
       "      <td>398</td>\n",
       "      <td>187</td>\n",
       "      <td>3.99€</td>\n",
       "      <td>7500000.0</td>\n",
       "      <td>True</td>\n",
       "      <td>False</td>\n",
       "      <td>False</td>\n",
       "      <td>False</td>\n",
       "      <td>False</td>\n",
       "      <td>False</td>\n",
       "      <td>False</td>\n",
       "      <td>False</td>\n",
       "    </tr>\n",
       "    <tr>\n",
       "      <th>3</th>\n",
       "      <td>Deathmatch Classic</td>\n",
       "      <td>2001-06-01</td>\n",
       "      <td>Valve</td>\n",
       "      <td>0</td>\n",
       "      <td>1273</td>\n",
       "      <td>267</td>\n",
       "      <td>258</td>\n",
       "      <td>3.99€</td>\n",
       "      <td>7500000.0</td>\n",
       "      <td>True</td>\n",
       "      <td>False</td>\n",
       "      <td>False</td>\n",
       "      <td>False</td>\n",
       "      <td>False</td>\n",
       "      <td>False</td>\n",
       "      <td>False</td>\n",
       "      <td>False</td>\n",
       "    </tr>\n",
       "    <tr>\n",
       "      <th>4</th>\n",
       "      <td>Half-Life: Opposing Force</td>\n",
       "      <td>1999-11-01</td>\n",
       "      <td>Gearbox Software</td>\n",
       "      <td>0</td>\n",
       "      <td>5250</td>\n",
       "      <td>288</td>\n",
       "      <td>624</td>\n",
       "      <td>3.99€</td>\n",
       "      <td>7500000.0</td>\n",
       "      <td>True</td>\n",
       "      <td>False</td>\n",
       "      <td>False</td>\n",
       "      <td>False</td>\n",
       "      <td>False</td>\n",
       "      <td>False</td>\n",
       "      <td>False</td>\n",
       "      <td>False</td>\n",
       "    </tr>\n",
       "  </tbody>\n",
       "</table>\n",
       "</div>"
      ],
      "text/plain": [
       "                                 name release_date         developer  \\\n",
       "Unnamed: 0                                                             \n",
       "0                      Counter-Strike   2000-11-01             Valve   \n",
       "1               Team Fortress Classic   1999-04-01             Valve   \n",
       "2                       Day of Defeat   2003-05-01             Valve   \n",
       "3                  Deathmatch Classic   2001-06-01             Valve   \n",
       "4           Half-Life: Opposing Force   1999-11-01  Gearbox Software   \n",
       "\n",
       "            achievements  positive_ratings  negative_ratings  \\\n",
       "Unnamed: 0                                                     \n",
       "0                      0            124534              3339   \n",
       "1                      0              3318               633   \n",
       "2                      0              3416               398   \n",
       "3                      0              1273               267   \n",
       "4                      0              5250               288   \n",
       "\n",
       "            avg_hours_per_user  price       sells  action  adventure    rpg  \\\n",
       "Unnamed: 0                                                                    \n",
       "0                        17612  7.19€  15000000.0    True      False  False   \n",
       "1                          277  3.99€   7500000.0    True      False  False   \n",
       "2                          187  3.99€   7500000.0    True      False  False   \n",
       "3                          258  3.99€   7500000.0    True      False  False   \n",
       "4                          624  3.99€   7500000.0    True      False  False   \n",
       "\n",
       "            simulation  strategy  racing  free_to_play  early_access  \n",
       "Unnamed: 0                                                            \n",
       "0                False     False   False         False         False  \n",
       "1                False     False   False         False         False  \n",
       "2                False     False   False         False         False  \n",
       "3                False     False   False         False         False  \n",
       "4                False     False   False         False         False  "
      ]
     },
     "execution_count": 9,
     "metadata": {},
     "output_type": "execute_result"
    }
   ],
   "source": [
    "df.head()"
   ]
  },
  {
   "cell_type": "code",
   "execution_count": 10,
   "id": "1c76250d",
   "metadata": {},
   "outputs": [
    {
     "ename": "KeyError",
     "evalue": "\"None of ['Unnamed: 0'] are in the columns\"",
     "output_type": "error",
     "traceback": [
      "\u001b[1;31m---------------------------------------------------------------------------\u001b[0m",
      "\u001b[1;31mKeyError\u001b[0m                                  Traceback (most recent call last)",
      "\u001b[1;32m~\\AppData\\Local\\Temp\\ipykernel_20680\\559512588.py\u001b[0m in \u001b[0;36m?\u001b[1;34m()\u001b[0m\n\u001b[1;32m----> 1\u001b[1;33m \u001b[0mnew_df\u001b[0m \u001b[1;33m=\u001b[0m \u001b[0mdf\u001b[0m\u001b[1;33m.\u001b[0m\u001b[0mset_index\u001b[0m\u001b[1;33m(\u001b[0m\u001b[1;34m'Unnamed: 0'\u001b[0m\u001b[1;33m)\u001b[0m\u001b[1;33m\u001b[0m\u001b[1;33m\u001b[0m\u001b[0m\n\u001b[0m",
      "\u001b[1;32mC:\\ProgramData\\anaconda3\\Lib\\site-packages\\pandas\\core\\frame.py\u001b[0m in \u001b[0;36m?\u001b[1;34m(self, keys, drop, append, inplace, verify_integrity)\u001b[0m\n\u001b[0;32m   6118\u001b[0m                     \u001b[1;32mif\u001b[0m \u001b[1;32mnot\u001b[0m \u001b[0mfound\u001b[0m\u001b[1;33m:\u001b[0m\u001b[1;33m\u001b[0m\u001b[1;33m\u001b[0m\u001b[0m\n\u001b[0;32m   6119\u001b[0m                         \u001b[0mmissing\u001b[0m\u001b[1;33m.\u001b[0m\u001b[0mappend\u001b[0m\u001b[1;33m(\u001b[0m\u001b[0mcol\u001b[0m\u001b[1;33m)\u001b[0m\u001b[1;33m\u001b[0m\u001b[1;33m\u001b[0m\u001b[0m\n\u001b[0;32m   6120\u001b[0m \u001b[1;33m\u001b[0m\u001b[0m\n\u001b[0;32m   6121\u001b[0m         \u001b[1;32mif\u001b[0m \u001b[0mmissing\u001b[0m\u001b[1;33m:\u001b[0m\u001b[1;33m\u001b[0m\u001b[1;33m\u001b[0m\u001b[0m\n\u001b[1;32m-> 6122\u001b[1;33m             \u001b[1;32mraise\u001b[0m \u001b[0mKeyError\u001b[0m\u001b[1;33m(\u001b[0m\u001b[1;33mf\"\u001b[0m\u001b[1;33mNone of \u001b[0m\u001b[1;33m{\u001b[0m\u001b[0mmissing\u001b[0m\u001b[1;33m}\u001b[0m\u001b[1;33m are in the columns\u001b[0m\u001b[1;33m\"\u001b[0m\u001b[1;33m)\u001b[0m\u001b[1;33m\u001b[0m\u001b[1;33m\u001b[0m\u001b[0m\n\u001b[0m\u001b[0;32m   6123\u001b[0m \u001b[1;33m\u001b[0m\u001b[0m\n\u001b[0;32m   6124\u001b[0m         \u001b[1;32mif\u001b[0m \u001b[0minplace\u001b[0m\u001b[1;33m:\u001b[0m\u001b[1;33m\u001b[0m\u001b[1;33m\u001b[0m\u001b[0m\n\u001b[0;32m   6125\u001b[0m             \u001b[0mframe\u001b[0m \u001b[1;33m=\u001b[0m \u001b[0mself\u001b[0m\u001b[1;33m\u001b[0m\u001b[1;33m\u001b[0m\u001b[0m\n",
      "\u001b[1;31mKeyError\u001b[0m: \"None of ['Unnamed: 0'] are in the columns\""
     ]
    }
   ],
   "source": []
  },
  {
   "cell_type": "markdown",
   "id": "2ca18c79",
   "metadata": {},
   "source": [
    "# Limpieza y manipulación de datos"
   ]
  },
  {
   "cell_type": "markdown",
   "id": "daf803f8",
   "metadata": {},
   "source": [
    "## Quitar datos duplicados o irrelevantes"
   ]
  },
  {
   "cell_type": "code",
   "execution_count": null,
   "id": "b62c4b31",
   "metadata": {},
   "outputs": [],
   "source": []
  },
  {
   "cell_type": "markdown",
   "id": "0fb77f6d",
   "metadata": {},
   "source": [
    "## Arreglar errores estructurales"
   ]
  },
  {
   "cell_type": "code",
   "execution_count": null,
   "id": "087c63b0",
   "metadata": {},
   "outputs": [],
   "source": []
  },
  {
   "cell_type": "markdown",
   "id": "04610459",
   "metadata": {},
   "source": [
    "### Definir errores\n",
    "\n",
    "Recuerda hacer una exploración de datos para encontrar estos errores. Os confirmo que hay unos cuantos!"
   ]
  },
  {
   "cell_type": "markdown",
   "id": "82c72807",
   "metadata": {},
   "source": [
    "## Filtrar outliers "
   ]
  },
  {
   "cell_type": "code",
   "execution_count": null,
   "id": "6fa2e9ad",
   "metadata": {},
   "outputs": [],
   "source": []
  },
  {
   "cell_type": "markdown",
   "id": "803c8e9c",
   "metadata": {},
   "source": [
    "## Lidiar con NANs"
   ]
  },
  {
   "cell_type": "code",
   "execution_count": null,
   "id": "53a40496",
   "metadata": {},
   "outputs": [],
   "source": []
  },
  {
   "cell_type": "markdown",
   "id": "6a1ff706",
   "metadata": {},
   "source": [
    "## Validar nuestros datos"
   ]
  },
  {
   "cell_type": "code",
   "execution_count": null,
   "id": "762c8568",
   "metadata": {},
   "outputs": [],
   "source": []
  },
  {
   "cell_type": "markdown",
   "id": "370eca7d",
   "metadata": {},
   "source": [
    "# EDA"
   ]
  },
  {
   "cell_type": "markdown",
   "id": "bc753449",
   "metadata": {},
   "source": [
    "## Cual es el TOP10 de juegos más jugados?"
   ]
  },
  {
   "cell_type": "code",
   "execution_count": null,
   "id": "707ca7b0",
   "metadata": {},
   "outputs": [],
   "source": []
  },
  {
   "cell_type": "markdown",
   "id": "91c856c8",
   "metadata": {},
   "source": [
    "## Cuál es el género de videojuegos más vendido?"
   ]
  },
  {
   "cell_type": "code",
   "execution_count": null,
   "id": "7a68737c",
   "metadata": {},
   "outputs": [],
   "source": []
  },
  {
   "cell_type": "markdown",
   "id": "ae31c80d",
   "metadata": {},
   "source": [
    "## Qué géneros tienen mejores reviews de media?"
   ]
  },
  {
   "cell_type": "code",
   "execution_count": null,
   "id": "201442f3",
   "metadata": {},
   "outputs": [],
   "source": []
  },
  {
   "cell_type": "markdown",
   "id": "1f001109",
   "metadata": {},
   "source": [
    "## Cuánto ha ganado el desarrollador que más juegos ha vendido?"
   ]
  },
  {
   "cell_type": "code",
   "execution_count": null,
   "id": "52e9622e",
   "metadata": {},
   "outputs": [],
   "source": []
  },
  {
   "cell_type": "markdown",
   "id": "8546f78c",
   "metadata": {},
   "source": [
    "## Cómo afecta a las reviews que un juego sea Early Access?"
   ]
  },
  {
   "cell_type": "code",
   "execution_count": null,
   "id": "775dbf55",
   "metadata": {},
   "outputs": [],
   "source": []
  },
  {
   "cell_type": "markdown",
   "id": "79b52e68",
   "metadata": {},
   "source": [
    "## Cuál es el desarrollador (o desarrolladores) que más tipos de juego y cantidad ha desarrollado?"
   ]
  },
  {
   "cell_type": "code",
   "execution_count": null,
   "id": "b93f440f",
   "metadata": {},
   "outputs": [],
   "source": []
  },
  {
   "cell_type": "markdown",
   "id": "19762f5f",
   "metadata": {},
   "source": [
    "## En qué mes, desde que tenemos datos, se han publicado más juegos?"
   ]
  },
  {
   "cell_type": "code",
   "execution_count": null,
   "id": "13a444d0",
   "metadata": {},
   "outputs": [],
   "source": []
  },
  {
   "cell_type": "markdown",
   "id": "5c8f200a",
   "metadata": {},
   "source": [
    "## Cuántas horas se juega de media a cada tipo de juego mensualmente?"
   ]
  },
  {
   "cell_type": "code",
   "execution_count": null,
   "id": "d068c0c8",
   "metadata": {},
   "outputs": [],
   "source": []
  },
  {
   "cell_type": "markdown",
   "id": "f7004dc2",
   "metadata": {},
   "source": [
    "## Los juegos Free to Play tienen mejores o peores reviews?"
   ]
  },
  {
   "cell_type": "code",
   "execution_count": null,
   "id": "b080651f",
   "metadata": {},
   "outputs": [],
   "source": []
  },
  {
   "cell_type": "markdown",
   "id": "3acaca33",
   "metadata": {},
   "source": [
    "## Cómo ha evolucionado el número de achievements (trofeos) por juego?"
   ]
  },
  {
   "cell_type": "code",
   "execution_count": null,
   "id": "297fc804",
   "metadata": {},
   "outputs": [],
   "source": []
  },
  {
   "cell_type": "markdown",
   "id": "9806da6f",
   "metadata": {},
   "source": [
    "## Bonus! Si tienes curiosidad, y quieres contestar más preguntas, puedes resolverlas aquí mismo!"
   ]
  },
  {
   "cell_type": "code",
   "execution_count": null,
   "id": "640e1f6b",
   "metadata": {},
   "outputs": [],
   "source": []
  }
 ],
 "metadata": {
  "kernelspec": {
   "display_name": "Python 3 (ipykernel)",
   "language": "python",
   "name": "python3"
  },
  "language_info": {
   "codemirror_mode": {
    "name": "ipython",
    "version": 3
   },
   "file_extension": ".py",
   "mimetype": "text/x-python",
   "name": "python",
   "nbconvert_exporter": "python",
   "pygments_lexer": "ipython3",
   "version": "3.12.3"
  },
  "toc": {
   "base_numbering": 1,
   "nav_menu": {},
   "number_sections": true,
   "sideBar": true,
   "skip_h1_title": false,
   "title_cell": "Table of Contents",
   "title_sidebar": "Contents",
   "toc_cell": false,
   "toc_position": {
    "height": "calc(100% - 180px)",
    "left": "10px",
    "top": "150px",
    "width": "409.6px"
   },
   "toc_section_display": true,
   "toc_window_display": true
  }
 },
 "nbformat": 4,
 "nbformat_minor": 5
}
